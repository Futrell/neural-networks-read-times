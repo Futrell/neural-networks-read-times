{
 "cells": [
  {
   "cell_type": "code",
   "execution_count": 12,
   "metadata": {},
   "outputs": [],
   "source": [
    "import pandas as pd\n",
    "import os\n",
    "import re\n",
    "import math\n",
    "from collections import Counter\n",
    "\n",
    "from tqdm.notebook import tqdm"
   ]
  },
  {
   "cell_type": "code",
   "execution_count": 3,
   "metadata": {},
   "outputs": [],
   "source": [
    "# Load word frequency statistics for control features\n",
    "word_freq = Counter()\n",
    "with open(\"../data/wikitext-2_train_vocab.txt\", \"r\") as f:\n",
    "    for line in f:\n",
    "        token, freq = line.strip().split(\"\\t\")\n",
    "        word_freq[token] = int(freq)"
   ]
  },
  {
   "cell_type": "code",
   "execution_count": 28,
   "metadata": {},
   "outputs": [],
   "source": [
    "# Harmonize lists of <(word, int),(word, int)> pairs\n",
    "# Discards pairs where words do not match\n",
    "\n",
    "def harmonize_rows(ref, d):\n",
    "    result = []\n",
    "    curr_d = d.pop(0)\n",
    "    curr_ref = ref.pop(0)\n",
    "    \n",
    "    while len(d) > 10:\n",
    "        model_token, surprisal = curr_d\n",
    "        code, rt_token, rt = curr_ref\n",
    "\n",
    "        if code == 30628:\n",
    "            print(curr_d, curr_ref)\n",
    "        \n",
    "        #print(curr_d[2] + \" \" + curr_ref[0])\n",
    "        if model_token == rt_token:\n",
    "            #print(\"===\" + curr_d[2] + \"-\" + curr_ref[0])\n",
    "            result.append(curr_d + curr_ref)\n",
    "            curr_d = d.pop(0)\n",
    "            curr_ref = ref.pop(0)\n",
    "        # If current token is unked, then pop both\n",
    "        elif \"UNK\" in model_token:\n",
    "            curr_d = d.pop(0)\n",
    "            curr_ref = ref.pop(0)\n",
    "        # If current ref has punctuation, pop both\n",
    "        elif not rt_token.isalpha():\n",
    "            curr_ref = ref.pop(0)\n",
    "            curr_d = d.pop(0)\n",
    "        #If the current word is the end of a line\n",
    "        elif \"EOL\" in rt_token:\n",
    "            curr_ref = ref.pop(0)\n",
    "            curr_d = d.pop(0)\n",
    "        else:\n",
    "            curr_d = d.pop(0)\n",
    "            \n",
    "    return result"
   ]
  },
  {
   "cell_type": "code",
   "execution_count": 33,
   "metadata": {},
   "outputs": [
    {
     "data": {
      "application/vnd.jupyter.widget-view+json": {
       "model_id": "f3198fbd28ef4cf099cf1dfb3534efec",
       "version_major": 2,
       "version_minor": 0
      },
      "text/plain": [
       "HBox(children=(FloatProgress(value=0.0, description='Harmonizing models', max=5.0, style=ProgressStyle(descrip…"
      ]
     },
     "metadata": {},
     "output_type": "display_data"
    },
    {
     "name": "stdout",
     "output_type": "stream",
     "text": [
      "Harmonizing results for 5gram\n"
     ]
    },
    {
     "data": {
      "application/vnd.jupyter.widget-view+json": {
       "model_id": "2203f3e6058f43118895d90a9b5c3321",
       "version_major": 2,
       "version_minor": 0
      },
      "text/plain": [
       "HBox(children=(FloatProgress(value=0.0, description='Test files', max=80.0, style=ProgressStyle(description_wi…"
      ]
     },
     "metadata": {},
     "output_type": "display_data"
    },
    {
     "name": "stdout",
     "output_type": "stream",
     "text": [
      "('.', 3.996775431879412) (30628, 'Beckham', 373.4)\n",
      "('Beckham', 25.244896762107004) (30628, 'Beckham', 373.4)\n",
      "('.', 3.3674915911182564) (30628, 'Beckham', 373.4)\n",
      "('Beckham', 22.56801753440681) (30628, 'Beckham', 373.4)\n",
      "('.', 5.480494004734213) (30628, 'Beckham', 373.4)\n",
      "('UNK-INITC', 7.532568421063043) (30628, 'Beckham', 373.4)\n",
      "('.', 4.504853370395847) (30628, 'Beckham', 373.4)\n",
      "('Beckham', 26.36086845347224) (30628, 'Beckham', 373.4)\n",
      "\n",
      "Harmonizing results for rnng\n"
     ]
    },
    {
     "data": {
      "application/vnd.jupyter.widget-view+json": {
       "model_id": "14808934776c4de899fbdfe6362a9d2a",
       "version_major": 2,
       "version_minor": 0
      },
      "text/plain": [
       "HBox(children=(FloatProgress(value=0.0, description='Test files', max=180.0, style=ProgressStyle(description_w…"
      ]
     },
     "metadata": {},
     "output_type": "display_data"
    },
    {
     "name": "stdout",
     "output_type": "stream",
     "text": [
      "('.', 11.0215) (30628, 'Beckham', 373.4)\n",
      "('Beckham', 15.6277) (30628, 'Beckham', 373.4)\n",
      "('.', 10.2556) (30628, 'Beckham', 373.4)\n",
      "('Beckham', 16.3061) (30628, 'Beckham', 373.4)\n",
      "('.', 10.7883) (30628, 'Beckham', 373.4)\n",
      "('UNK-INITC', 5.52126) (30628, 'Beckham', 373.4)\n",
      "('.', 11.549000000000001) (30628, 'Beckham', 373.4)\n",
      "('Beckham', 15.2614) (30628, 'Beckham', 373.4)\n",
      "('.', 9.5025) (30628, 'Beckham', 373.4)\n",
      "('UNK-INITC', 5.29639) (30628, 'Beckham', 373.4)\n",
      "('.', 10.3834) (30628, 'Beckham', 373.4)\n",
      "('Beckham', 15.6341) (30628, 'Beckham', 373.4)\n",
      "('.', 9.71155) (30628, 'Beckham', 373.4)\n",
      "('UNK-INITC', 5.35) (30628, 'Beckham', 373.4)\n",
      "('.', 11.2966) (30628, 'Beckham', 373.4)\n",
      "('Beckham', 14.8918) (30628, 'Beckham', 373.4)\n",
      "('.', 11.3135) (30628, 'Beckham', 373.4)\n",
      "('UNK-INITC', 5.1432400000000005) (30628, 'Beckham', 373.4)\n",
      "\n",
      "Harmonizing results for vanilla\n"
     ]
    },
    {
     "data": {
      "application/vnd.jupyter.widget-view+json": {
       "model_id": "4f845b80b00b4a999cbe0c447086bee2",
       "version_major": 2,
       "version_minor": 0
      },
      "text/plain": [
       "HBox(children=(FloatProgress(value=0.0, description='Test files', max=180.0, style=ProgressStyle(description_w…"
      ]
     },
     "metadata": {},
     "output_type": "display_data"
    },
    {
     "name": "stdout",
     "output_type": "stream",
     "text": [
      "('.', 1.596814) (30628, 'Beckham', 373.4)\n",
      "('Beckham', 0.0) (30628, 'Beckham', 373.4)\n",
      "('.', 2.118465) (30628, 'Beckham', 373.4)\n",
      "('UNK-INITC', 0.0) (30628, 'Beckham', 373.4)\n",
      "('.', 1.056573) (30628, 'Beckham', 373.4)\n",
      "('Beckham', 0.0) (30628, 'Beckham', 373.4)\n",
      "('.', 1.100375) (30628, 'Beckham', 373.4)\n",
      "('Beckham', 0.0) (30628, 'Beckham', 373.4)\n",
      "('.', 1.2768) (30628, 'Beckham', 373.4)\n",
      "('Beckham', 0.0) (30628, 'Beckham', 373.4)\n",
      "('.', 1.453569) (30628, 'Beckham', 373.4)\n",
      "('Beckham', 0.0) (30628, 'Beckham', 373.4)\n",
      "('.', 1.742211) (30628, 'Beckham', 373.4)\n",
      "('UNK-INITC', 0.0) (30628, 'Beckham', 373.4)\n",
      "('.', 1.7080380000000002) (30628, 'Beckham', 373.4)\n",
      "('UNK-INITC', 0.0) (30628, 'Beckham', 373.4)\n",
      "('.', 1.598862) (30628, 'Beckham', 373.4)\n",
      "('Beckham', 0.0) (30628, 'Beckham', 373.4)\n",
      "\n",
      "Harmonizing results for gpt2.old\n"
     ]
    },
    {
     "data": {
      "application/vnd.jupyter.widget-view+json": {
       "model_id": "3cfcecc8810446ed8303cf48827a9336",
       "version_major": 2,
       "version_minor": 0
      },
      "text/plain": [
       "HBox(children=(FloatProgress(value=0.0, description='Test files', max=120.0, style=ProgressStyle(description_w…"
      ]
     },
     "metadata": {},
     "output_type": "display_data"
    },
    {
     "name": "stdout",
     "output_type": "stream",
     "text": [
      "('.', 9.17480182647705) (30628, 'Beckham', 373.4)\n",
      "('Beckham', 11.973114013671875) (30628, 'Beckham', 373.4)\n",
      "('.', 3.667911529541016) (30628, 'Beckham', 373.4)\n",
      "('Beckham', 7.750174045562744) (30628, 'Beckham', 373.4)\n",
      "('.', 3.3121492862701416) (30628, 'Beckham', 373.4)\n",
      "('Beckham', 8.703068733215332) (30628, 'Beckham', 373.4)\n",
      "('.', 3.164111614227295) (30628, 'Beckham', 373.4)\n",
      "('Beckham', 8.889322280883789) (30628, 'Beckham', 373.4)\n",
      "('.', 2.055673360824585) (30628, 'Beckham', 373.4)\n",
      "('Beckham', 13.251792907714846) (30628, 'Beckham', 373.4)\n",
      "('.', 3.880390167236328) (30628, 'Beckham', 373.4)\n",
      "('Beckham', 15.578605651855467) (30628, 'Beckham', 373.4)\n",
      "\n",
      "Harmonizing results for gpt2\n"
     ]
    },
    {
     "data": {
      "application/vnd.jupyter.widget-view+json": {
       "model_id": "51e2450914314e64b471f54258c3b62a",
       "version_major": 2,
       "version_minor": 0
      },
      "text/plain": [
       "HBox(children=(FloatProgress(value=0.0, description='Test files', max=140.0, style=ProgressStyle(description_w…"
      ]
     },
     "metadata": {},
     "output_type": "display_data"
    },
    {
     "name": "stdout",
     "output_type": "stream",
     "text": [
      "('.', 3.0326457023620605) (30628, 'Beckham', 373.4)\n",
      "('Beckham', 0.0) (30628, 'Beckham', 373.4)\n",
      "('.', 3.667911529541016) (30628, 'Beckham', 373.4)\n",
      "('Beckham', 7.750174045562744) (30628, 'Beckham', 373.4)\n",
      "('.', 2.342882871627808) (30628, 'Beckham', 373.4)\n",
      "('Beckham', 0.0) (30628, 'Beckham', 373.4)\n",
      "('.', 3.3121492862701416) (30628, 'Beckham', 373.4)\n",
      "('Beckham', 8.703068733215332) (30628, 'Beckham', 373.4)\n",
      "('.', 3.164111614227295) (30628, 'Beckham', 373.4)\n",
      "('Beckham', 8.889322280883789) (30628, 'Beckham', 373.4)\n",
      "('.', 2.055673360824585) (30628, 'Beckham', 373.4)\n",
      "('Beckham', 13.251792907714846) (30628, 'Beckham', 373.4)\n",
      "('.', 3.880390167236328) (30628, 'Beckham', 373.4)\n",
      "('Beckham', 15.578605651855467) (30628, 'Beckham', 373.4)\n",
      "\n",
      "\n"
     ]
    }
   ],
   "source": [
    "#\n",
    "\n",
    "def merge_model_results():\n",
    "    \n",
    "    final_df = []\n",
    "    \n",
    "    models = [f for f in os.listdir(\"../data/model_results\") if not f.startswith(\".\")]\n",
    "    for m in tqdm(models, desc=\"Harmonizing models\"):\n",
    "        tqdm.write(\"Harmonizing results for \" + m)\n",
    "        test_corpus = [f for f in os.listdir(\"../data/model_results/\" + m) if not f.startswith(\".\")]\n",
    "        # DEV\n",
    "        test_corpus = [\"dundee\"]\n",
    "        for tc in test_corpus:\n",
    "            test_files = [f for f in os.listdir(\"../data/model_results/\" + m + \"/\" + tc) if not f.startswith(\".\")]\n",
    "            \n",
    "            for tf in tqdm(test_files, desc=\"Test files\"):\n",
    "                if tf == \"UNKS\":\n",
    "                    print(\"TODO: UNKS\")\n",
    "                    continue\n",
    "                \n",
    "                try:\n",
    "                    tf = tf.split(\"_\")\n",
    "                    test_filename = tf[0]\n",
    "                    model_architecture = tf[1]\n",
    "                    training_data = tf[2]\n",
    "                    seed = tf[3].replace(\".csv\", \"\")\n",
    "                except:\n",
    "                    print(tf)\n",
    "                \n",
    "                # Special handling for the Dundee corpus\n",
    "                if tc == \"dundee\":\n",
    "                    gold_test_filename = test_filename.replace(\"wrdp\", \"\") + \"_avg\"\n",
    "                    gold_standard = pd.read_csv(\"../data/human_rts/\" + tc + \"/\" + gold_test_filename + \".txt\", sep=\"\\t\", names=[\"word\", \"surprisal\"])\n",
    "                    gold_standard.insert(0, 'code', range(0,len(gold_standard)))\n",
    "                    gold_standard[\"code\"] = gold_standard[\"code\"] + int(test_filename.replace(\"tx\", \"\").replace(\"wrdp\", \"\")) * 10000\n",
    "                else:\n",
    "                    gold_standard = pd.read_csv(\"../data/human_rts/\" + tc + \"/\" + test_filename + \".txt\", sep=\"\\t\")\n",
    "                                    \n",
    "                model_results = \"_\".join([test_filename, model_architecture, training_data, seed])\n",
    "                model_path = \"/\".join([\"../data/model_results\", m, tc, model_results])\n",
    "                model_results = pd.read_csv(model_path+\".csv\", sep=\"\\t\")\n",
    "            \n",
    "                # TODO: EOL Handleing\n",
    "                \n",
    "                model_results = [tuple(x)[2:4] for x in model_results.values.tolist()]\n",
    "                gold_standard = [tuple(x) for x in gold_standard.values.tolist()]\n",
    "                \n",
    "                harmonized_results = harmonize_rows(gold_standard, model_results)\n",
    "                \n",
    "                result = [tuple((x[2], x[0], x[1], x[4], tc, model_architecture, training_data, seed, len(x[0]), math.log(word_freq[x[0]]+1))) for x in harmonized_results]\n",
    "                final_df.extend(result)\n",
    "                \n",
    "    df = pd.DataFrame(final_df)\n",
    "    df.columns = [\"code\", \"word\", \"surprisal\", \"psychometric\", \"corpus\", \"model\", \"training\", \"seed\", \"len\", \"freq\"]\n",
    "    df.head()\n",
    "    df.to_csv(\"../data/harmonized_results.csv\")\n",
    "    return df\n",
    "\n",
    "df = merge_model_results()"
   ]
  },
  {
   "cell_type": "code",
   "execution_count": 38,
   "metadata": {},
   "outputs": [],
   "source": [
    "# Drop corpus--code combinations for which *any* model--training has zero surprisal\n",
    "to_drop = df.groupby([\"corpus\", \"code\"]).apply(lambda xs: (xs.surprisal == 0).any())"
   ]
  },
  {
   "cell_type": "code",
   "execution_count": 43,
   "metadata": {},
   "outputs": [],
   "source": [
    "df_mod = df.set_index([\"corpus\", \"code\"]).drop(index=to_drop[to_drop].index)"
   ]
  },
  {
   "cell_type": "code",
   "execution_count": 45,
   "metadata": {},
   "outputs": [],
   "source": [
    "df_mod.to_csv(\"../data/harmonized_results.csv\")"
   ]
  }
 ],
 "metadata": {
  "kernelspec": {
   "display_name": "Python 3",
   "language": "python",
   "name": "python3"
  },
  "language_info": {
   "codemirror_mode": {
    "name": "ipython",
    "version": 3
   },
   "file_extension": ".py",
   "mimetype": "text/x-python",
   "name": "python",
   "nbconvert_exporter": "python",
   "pygments_lexer": "ipython3",
   "version": "3.7.3"
  }
 },
 "nbformat": 4,
 "nbformat_minor": 4
}
