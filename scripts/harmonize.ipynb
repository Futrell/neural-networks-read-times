{
 "cells": [
  {
   "cell_type": "code",
   "execution_count": 12,
   "metadata": {},
   "outputs": [],
   "source": [
    "import pandas as pd\n",
    "import os\n",
    "import re\n",
    "import math\n",
    "from collections import Counter\n",
    "\n",
    "from tqdm.notebook import tqdm"
   ]
  },
  {
   "cell_type": "code",
   "execution_count": 3,
   "metadata": {},
   "outputs": [],
   "source": [
    "# Load word frequency statistics for control features\n",
    "word_freq = Counter()\n",
    "with open(\"../data/wikitext-2_train_vocab.txt\", \"r\") as f:\n",
    "    for line in f:\n",
    "        token, freq = line.strip().split(\"\\t\")\n",
    "        word_freq[token] = int(freq)"
   ]
  },
  {
   "cell_type": "code",
   "execution_count": 28,
   "metadata": {},
   "outputs": [],
   "source": [
    "# Harmonize lists of <(word, int),(word, int)> pairs\n",
    "# Discards pairs where words do not match\n",
    "\n",
    "def harmonize_rows(ref, d):\n",
    "    result = []\n",
    "    curr_d = d.pop(0)\n",
    "    curr_ref = ref.pop(0)\n",
    "    \n",
    "    while len(d) > 10:\n",
    "        model_token, surprisal = curr_d\n",
    "        code, rt_token, rt = curr_ref\n",
    "        \n",
    "        #print(curr_d[2] + \" \" + curr_ref[0])\n",
    "        if model_token == rt_token:\n",
    "            #print(\"===\" + curr_d[2] + \"-\" + curr_ref[0])\n",
    "            result.append(curr_d + curr_ref)\n",
    "            curr_d = d.pop(0)\n",
    "            curr_ref = ref.pop(0)\n",
    "        # If current token is unked, then pop both\n",
    "        elif \"UNK\" in model_token:\n",
    "            curr_d = d.pop(0)\n",
    "            curr_ref = ref.pop(0)\n",
    "        # If current ref has punctuation, pop both\n",
    "        elif not rt_token.isalpha():\n",
    "            curr_ref = ref.pop(0)\n",
    "            curr_d = d.pop(0)\n",
    "        #If the current word is the end of a line\n",
    "        elif \"EOL\" in rt_token:\n",
    "            curr_ref = ref.pop(0)\n",
    "            curr_d = d.pop(0)\n",
    "        else:\n",
    "            curr_d = d.pop(0)\n",
    "            \n",
    "    return result"
   ]
  },
  {
   "cell_type": "code",
   "execution_count": 54,
   "metadata": {},
   "outputs": [
    {
     "data": {
      "application/vnd.jupyter.widget-view+json": {
       "model_id": "7daa047f2dec46798bd5b747c24755ea",
       "version_major": 2,
       "version_minor": 0
      },
      "text/plain": [
       "HBox(children=(FloatProgress(value=0.0, description='Harmonizing models', max=4.0, style=ProgressStyle(descrip…"
      ]
     },
     "metadata": {},
     "output_type": "display_data"
    },
    {
     "name": "stdout",
     "output_type": "stream",
     "text": [
      "Harmonizing results for 5gram\n"
     ]
    },
    {
     "data": {
      "application/vnd.jupyter.widget-view+json": {
       "model_id": "b257919be38c4a7cb79808bbc53af3c7",
       "version_major": 2,
       "version_minor": 0
      },
      "text/plain": [
       "HBox(children=(FloatProgress(value=0.0, description='Test files', max=80.0, style=ProgressStyle(description_wi…"
      ]
     },
     "metadata": {},
     "output_type": "display_data"
    },
    {
     "name": "stdout",
     "output_type": "stream",
     "text": [
      "('.', 3.996775431879412) (30628, 'Beckham', 373.4)\n",
      "('Beckham', 25.244896762107004) (30628, 'Beckham', 373.4)\n",
      "('.', 3.3674915911182564) (30628, 'Beckham', 373.4)\n",
      "('Beckham', 22.56801753440681) (30628, 'Beckham', 373.4)\n",
      "('.', 5.480494004734213) (30628, 'Beckham', 373.4)\n",
      "('UNK-INITC', 7.532568421063043) (30628, 'Beckham', 373.4)\n",
      "('.', 4.504853370395847) (30628, 'Beckham', 373.4)\n",
      "('Beckham', 26.36086845347224) (30628, 'Beckham', 373.4)\n",
      "\n"
     ]
    },
    {
     "data": {
      "application/vnd.jupyter.widget-view+json": {
       "model_id": "ecd5367410fe48ffaa361fd6a16b2938",
       "version_major": 2,
       "version_minor": 0
      },
      "text/plain": [
       "HBox(children=(FloatProgress(value=0.0, description='Test files', max=4.0, style=ProgressStyle(description_wid…"
      ]
     },
     "metadata": {},
     "output_type": "display_data"
    },
    {
     "name": "stdout",
     "output_type": "stream",
     "text": [
      "('.', 4.003046261635828) (30628, 'The', 350.45555555555603)\n",
      "('The', 2.6239870675945296) (30628, 'The', 350.45555555555603)\n",
      "('.', 3.043098800211132) (30628, 'The', 350.45555555555603)\n",
      "('The', 2.5940555494832624) (30628, 'The', 350.45555555555603)\n",
      "('.', 2.567601536100589) (30628, 'The', 350.45555555555603)\n",
      "('The', 2.6143962363012534) (30628, 'The', 350.45555555555603)\n",
      "('.', 3.870624231462655) (30628, 'The', 350.45555555555603)\n",
      "('The', 2.628543286600972) (30628, 'The', 350.45555555555603)\n",
      "\n",
      "Harmonizing results for rnng\n"
     ]
    },
    {
     "data": {
      "application/vnd.jupyter.widget-view+json": {
       "model_id": "dddad966f49f48b1a027eb8abdccf705",
       "version_major": 2,
       "version_minor": 0
      },
      "text/plain": [
       "HBox(children=(FloatProgress(value=0.0, description='Test files', max=180.0, style=ProgressStyle(description_w…"
      ]
     },
     "metadata": {},
     "output_type": "display_data"
    },
    {
     "name": "stdout",
     "output_type": "stream",
     "text": [
      "('.', 11.0215) (30628, 'Beckham', 373.4)\n",
      "('Beckham', 15.6277) (30628, 'Beckham', 373.4)\n",
      "('.', 10.2556) (30628, 'Beckham', 373.4)\n",
      "('Beckham', 16.3061) (30628, 'Beckham', 373.4)\n",
      "('.', 10.7883) (30628, 'Beckham', 373.4)\n",
      "('UNK-INITC', 5.52126) (30628, 'Beckham', 373.4)\n",
      "('.', 11.549000000000001) (30628, 'Beckham', 373.4)\n",
      "('Beckham', 15.2614) (30628, 'Beckham', 373.4)\n",
      "('.', 9.5025) (30628, 'Beckham', 373.4)\n",
      "('UNK-INITC', 5.29639) (30628, 'Beckham', 373.4)\n",
      "('.', 10.3834) (30628, 'Beckham', 373.4)\n",
      "('Beckham', 15.6341) (30628, 'Beckham', 373.4)\n",
      "('.', 9.71155) (30628, 'Beckham', 373.4)\n",
      "('UNK-INITC', 5.35) (30628, 'Beckham', 373.4)\n",
      "('.', 11.2966) (30628, 'Beckham', 373.4)\n",
      "('Beckham', 14.8918) (30628, 'Beckham', 373.4)\n",
      "('.', 11.3135) (30628, 'Beckham', 373.4)\n",
      "('UNK-INITC', 5.1432400000000005) (30628, 'Beckham', 373.4)\n",
      "\n"
     ]
    },
    {
     "data": {
      "application/vnd.jupyter.widget-view+json": {
       "model_id": "5d39beb664b94a1a9e45ee8a120f1a9e",
       "version_major": 2,
       "version_minor": 0
      },
      "text/plain": [
       "HBox(children=(FloatProgress(value=0.0, description='Test files', max=9.0, style=ProgressStyle(description_wid…"
      ]
     },
     "metadata": {},
     "output_type": "display_data"
    },
    {
     "name": "stdout",
     "output_type": "stream",
     "text": [
      "('.', 5.35192) (30628, 'The', 350.45555555555603)\n",
      "('The', 1.8348099999999998) (30628, 'The', 350.45555555555603)\n",
      "('.', 7.73142) (30628, 'The', 350.45555555555603)\n",
      "('The', 1.8960400000000002) (30628, 'The', 350.45555555555603)\n",
      "('.', 1.83975) (30628, 'The', 350.45555555555603)\n",
      "('The', 1.9422099999999998) (30628, 'The', 350.45555555555603)\n",
      "('.', 0.6033689999999999) (30628, 'The', 350.45555555555603)\n",
      "('The', 1.94433) (30628, 'The', 350.45555555555603)\n",
      "('.', 1.93248) (30628, 'The', 350.45555555555603)\n",
      "('The', 1.88362) (30628, 'The', 350.45555555555603)\n",
      "('.', 1.7424099999999998) (30628, 'The', 350.45555555555603)\n",
      "('The', 1.9729299999999999) (30628, 'The', 350.45555555555603)\n",
      "('.', 8.26914) (30628, 'The', 350.45555555555603)\n",
      "('The', 1.86353) (30628, 'The', 350.45555555555603)\n",
      "('.', 2.12482) (30628, 'The', 350.45555555555603)\n",
      "('The', 1.87747) (30628, 'The', 350.45555555555603)\n",
      "('.', 1.05823) (30628, 'The', 350.45555555555603)\n",
      "('The', 2.0830599999999997) (30628, 'The', 350.45555555555603)\n",
      "\n",
      "Harmonizing results for vanilla\n"
     ]
    },
    {
     "data": {
      "application/vnd.jupyter.widget-view+json": {
       "model_id": "64e7bd39679040a8834a94d57276b02a",
       "version_major": 2,
       "version_minor": 0
      },
      "text/plain": [
       "HBox(children=(FloatProgress(value=0.0, description='Test files', max=180.0, style=ProgressStyle(description_w…"
      ]
     },
     "metadata": {},
     "output_type": "display_data"
    },
    {
     "name": "stdout",
     "output_type": "stream",
     "text": [
      "('.', 1.596814) (30628, 'Beckham', 373.4)\n",
      "('Beckham', 0.0) (30628, 'Beckham', 373.4)\n",
      "('.', 2.118465) (30628, 'Beckham', 373.4)\n",
      "('UNK-INITC', 0.0) (30628, 'Beckham', 373.4)\n",
      "('.', 1.056573) (30628, 'Beckham', 373.4)\n",
      "('Beckham', 0.0) (30628, 'Beckham', 373.4)\n",
      "('.', 1.100375) (30628, 'Beckham', 373.4)\n",
      "('Beckham', 0.0) (30628, 'Beckham', 373.4)\n",
      "('.', 1.2768) (30628, 'Beckham', 373.4)\n",
      "('Beckham', 0.0) (30628, 'Beckham', 373.4)\n",
      "('.', 1.453569) (30628, 'Beckham', 373.4)\n",
      "('Beckham', 0.0) (30628, 'Beckham', 373.4)\n",
      "('.', 1.742211) (30628, 'Beckham', 373.4)\n",
      "('UNK-INITC', 0.0) (30628, 'Beckham', 373.4)\n",
      "('.', 1.7080380000000002) (30628, 'Beckham', 373.4)\n",
      "('UNK-INITC', 0.0) (30628, 'Beckham', 373.4)\n",
      "('.', 1.598862) (30628, 'Beckham', 373.4)\n",
      "('Beckham', 0.0) (30628, 'Beckham', 373.4)\n",
      "\n"
     ]
    },
    {
     "data": {
      "application/vnd.jupyter.widget-view+json": {
       "model_id": "3d27146ea44d44808f59bce6918c4fc1",
       "version_major": 2,
       "version_minor": 0
      },
      "text/plain": [
       "HBox(children=(FloatProgress(value=0.0, description='Test files', max=9.0, style=ProgressStyle(description_wid…"
      ]
     },
     "metadata": {},
     "output_type": "display_data"
    },
    {
     "name": "stdout",
     "output_type": "stream",
     "text": [
      "('.', 0.507717) (30628, 'The', 350.45555555555603)\n",
      "('The', 0.0) (30628, 'The', 350.45555555555603)\n",
      "('.', 1.273785) (30628, 'The', 350.45555555555603)\n",
      "('The', 0.0) (30628, 'The', 350.45555555555603)\n",
      "('.', 1.376166) (30628, 'The', 350.45555555555603)\n",
      "('The', 0.0) (30628, 'The', 350.45555555555603)\n",
      "('.', 1.11466) (30628, 'The', 350.45555555555603)\n",
      "('The', 0.0) (30628, 'The', 350.45555555555603)\n",
      "('.', 1.323432) (30628, 'The', 350.45555555555603)\n",
      "('The', 0.0) (30628, 'The', 350.45555555555603)\n",
      "('.', 1.4348239999999999) (30628, 'The', 350.45555555555603)\n",
      "('The', 0.0) (30628, 'The', 350.45555555555603)\n",
      "('.', 1.444977) (30628, 'The', 350.45555555555603)\n",
      "('The', 0.0) (30628, 'The', 350.45555555555603)\n",
      "('.', 0.6687569999999999) (30628, 'The', 350.45555555555603)\n",
      "('The', 0.0) (30628, 'The', 350.45555555555603)\n",
      "('.', 0.75445) (30628, 'The', 350.45555555555603)\n",
      "('The', 0.0) (30628, 'The', 350.45555555555603)\n",
      "\n",
      "Harmonizing results for gpt2\n"
     ]
    },
    {
     "data": {
      "application/vnd.jupyter.widget-view+json": {
       "model_id": "39bf2f65b26141c496a13c0b86fd31c0",
       "version_major": 2,
       "version_minor": 0
      },
      "text/plain": [
       "HBox(children=(FloatProgress(value=0.0, description='Test files', max=140.0, style=ProgressStyle(description_w…"
      ]
     },
     "metadata": {},
     "output_type": "display_data"
    },
    {
     "name": "stdout",
     "output_type": "stream",
     "text": [
      "('.', 3.0326457023620605) (30628, 'Beckham', 373.4)\n",
      "('Beckham', 0.0) (30628, 'Beckham', 373.4)\n",
      "('.', 3.667911529541016) (30628, 'Beckham', 373.4)\n",
      "('Beckham', 7.750174045562744) (30628, 'Beckham', 373.4)\n",
      "('.', 2.342882871627808) (30628, 'Beckham', 373.4)\n",
      "('Beckham', 0.0) (30628, 'Beckham', 373.4)\n",
      "('.', 3.3121492862701416) (30628, 'Beckham', 373.4)\n",
      "('Beckham', 8.703068733215332) (30628, 'Beckham', 373.4)\n",
      "('.', 3.164111614227295) (30628, 'Beckham', 373.4)\n",
      "('Beckham', 8.889322280883789) (30628, 'Beckham', 373.4)\n",
      "('.', 2.055673360824585) (30628, 'Beckham', 373.4)\n",
      "('Beckham', 13.251792907714846) (30628, 'Beckham', 373.4)\n",
      "('.', 3.880390167236328) (30628, 'Beckham', 373.4)\n",
      "('Beckham', 15.578605651855467) (30628, 'Beckham', 373.4)\n",
      "\n"
     ]
    },
    {
     "data": {
      "application/vnd.jupyter.widget-view+json": {
       "model_id": "a355913490674dec82ea76708bff80ce",
       "version_major": 2,
       "version_minor": 0
      },
      "text/plain": [
       "HBox(children=(FloatProgress(value=0.0, description='Test files', max=7.0, style=ProgressStyle(description_wid…"
      ]
     },
     "metadata": {},
     "output_type": "display_data"
    },
    {
     "name": "stdout",
     "output_type": "stream",
     "text": [
      "('.', 1.1546107530593872) (30628, 'The', 350.45555555555603)\n",
      "('The', 0.0) (30628, 'The', 350.45555555555603)\n",
      "('.', 1.560834884643555) (30628, 'The', 350.45555555555603)\n",
      "('The', 0.0) (30628, 'The', 350.45555555555603)\n",
      "\n",
      "\n"
     ]
    }
   ],
   "source": [
    "#\n",
    "\n",
    "def merge_model_results():\n",
    "    \n",
    "    final_df = []\n",
    "    \n",
    "    models = [f for f in os.listdir(\"../data/model_results\") if not f.startswith(\".\")]\n",
    "    for m in tqdm(models, desc=\"Harmonizing models\"):\n",
    "        tqdm.write(\"Harmonizing results for \" + m)\n",
    "        test_corpus = [f for f in os.listdir(\"../data/model_results/\" + m) if not f.startswith(\".\")]\n",
    "        for tc in test_corpus:\n",
    "            test_files = [f for f in os.listdir(\"../data/model_results/\" + m + \"/\" + tc) if not f.startswith(\".\")]\n",
    "            \n",
    "            for tf in tqdm(test_files, desc=\"Test files\"):\n",
    "                if tf == \"UNKS\":\n",
    "                    print(\"TODO: UNKS\")\n",
    "                    continue\n",
    "                \n",
    "                try:\n",
    "                    tf = tf.split(\"_\")\n",
    "                    test_filename = tf[0]\n",
    "                    model_architecture = tf[1]\n",
    "                    training_data = tf[2]\n",
    "                    seed = tf[3].replace(\".csv\", \"\")\n",
    "                except:\n",
    "                    print(tf)\n",
    "                \n",
    "                # Special handling for the Dundee corpus\n",
    "                if tc == \"dundee\":\n",
    "                    gold_test_filename = test_filename.replace(\"wrdp\", \"\") + \"_avg\"\n",
    "                    gold_standard = pd.read_csv(\"../data/human_rts/\" + tc + \"/\" + gold_test_filename + \".txt\", sep=\"\\t\", names=[\"word\", \"surprisal\"])\n",
    "                    gold_standard.insert(0, 'code', range(0,len(gold_standard)))\n",
    "                    gold_standard[\"code\"] = gold_standard[\"code\"] + int(test_filename.replace(\"tx\", \"\").replace(\"wrdp\", \"\")) * 10000\n",
    "                else:\n",
    "                    gold_standard = pd.read_csv(\"../data/human_rts/\" + tc + \"/\" + test_filename + \".txt\", sep=\"\\t\")\n",
    "                                    \n",
    "                model_results = \"_\".join([test_filename, model_architecture, training_data, seed])\n",
    "                model_path = \"/\".join([\"../data/model_results\", m, tc, model_results])\n",
    "                model_results = pd.read_csv(model_path+\".csv\", sep=\"\\t\")\n",
    "            \n",
    "                # TODO: EOL Handleing\n",
    "                \n",
    "                model_results = [tuple(x)[2:4] for x in model_results.values.tolist()]\n",
    "                gold_standard = [tuple(x) for x in gold_standard.values.tolist()]\n",
    "                \n",
    "                harmonized_results = harmonize_rows(gold_standard, model_results)\n",
    "                \n",
    "                result = [tuple((x[2], x[0], x[1], x[4], tc, model_architecture, training_data, seed, len(x[0]), math.log(word_freq[x[0]]+1))) for x in harmonized_results]\n",
    "                final_df.extend(result)\n",
    "                \n",
    "    df = pd.DataFrame(final_df)\n",
    "    df.columns = [\"code\", \"word\", \"surprisal\", \"psychometric\", \"corpus\", \"model\", \"training\", \"seed\", \"len\", \"freq\"]\n",
    "    df.head()\n",
    "    df.to_csv(\"../data/harmonized_results.csv\")\n",
    "    return df\n",
    "\n",
    "df = merge_model_results()"
   ]
  },
  {
   "cell_type": "code",
   "execution_count": 55,
   "metadata": {},
   "outputs": [],
   "source": [
    "# Drop corpus--code combinations for which *any* model--training has zero surprisal\n",
    "to_drop = df.groupby([\"corpus\", \"code\"]).apply(lambda xs: (xs.surprisal == 0).any())"
   ]
  },
  {
   "cell_type": "code",
   "execution_count": 56,
   "metadata": {},
   "outputs": [],
   "source": [
    "df_mod = df.set_index([\"corpus\", \"code\"]).drop(index=to_drop[to_drop].index)"
   ]
  },
  {
   "cell_type": "code",
   "execution_count": 57,
   "metadata": {},
   "outputs": [],
   "source": [
    "df_mod.to_csv(\"../data/harmonized_results.csv\")"
   ]
  },
  {
   "cell_type": "code",
   "execution_count": 58,
   "metadata": {},
   "outputs": [
    {
     "data": {
      "text/plain": [
       "1220135"
      ]
     },
     "execution_count": 58,
     "metadata": {},
     "output_type": "execute_result"
    }
   ],
   "source": [
    "testdf = df[df.surprisal < 15]\n",
    "len(testdf)"
   ]
  },
  {
   "cell_type": "code",
   "execution_count": 59,
   "metadata": {},
   "outputs": [
    {
     "data": {
      "text/plain": [
       "model    training         seed      \n",
       "5gram    bllip-lg         1111          39995\n",
       "         bllip-md         1111          39434\n",
       "         bllip-sm         1111          38899\n",
       "         bllip-xs         1111          37824\n",
       "gpt-2    bllip-lg         1587139950    41046\n",
       "         bllip-lg-gptbpe  1581955288    36389\n",
       "         bllip-md         1586986276    40555\n",
       "         bllip-md-gptbpe  1581861474    36427\n",
       "                          1582126320    36480\n",
       "         bllip-sm-gptbpe  1581807578    33249\n",
       "         bllip-xs-gptbpe  1581807512    32405\n",
       "rnng     bllip-lg         7245          46011\n",
       "         bllip-md         3602          45531\n",
       "                          44862         45605\n",
       "         bllip-sm         64924         44892\n",
       "                          7877          44974\n",
       "         bllip-xs         28066         43539\n",
       "                          28068         43555\n",
       "                          4301          43486\n",
       "                          51272         43483\n",
       "vanilla  bllip-lg         0111          46345\n",
       "         bllip-md         0120          45998\n",
       "                          0922          45977\n",
       "         bllip-sm         0111          45527\n",
       "                          0120          45420\n",
       "                          0922          45457\n",
       "         bllip-xs         0111          43897\n",
       "                          0120          43859\n",
       "                          0922          43876\n",
       "dtype: int64"
      ]
     },
     "execution_count": 59,
     "metadata": {},
     "output_type": "execute_result"
    }
   ],
   "source": [
    "testdf.groupby([\"model\", \"training\", \"seed\"]).apply(lambda xs: len(xs))#pd.value_counts)"
   ]
  }
 ],
 "metadata": {
  "kernelspec": {
   "display_name": "Python 3",
   "language": "python",
   "name": "python3"
  },
  "language_info": {
   "codemirror_mode": {
    "name": "ipython",
    "version": 3
   },
   "file_extension": ".py",
   "mimetype": "text/x-python",
   "name": "python",
   "nbconvert_exporter": "python",
   "pygments_lexer": "ipython3",
   "version": "3.7.3"
  }
 },
 "nbformat": 4,
 "nbformat_minor": 4
}
