{
 "cells": [
  {
   "cell_type": "code",
   "execution_count": 2,
   "metadata": {},
   "outputs": [],
   "source": [
    "import pandas as pd\n",
    "from nltk.tokenize import sent_tokenize"
   ]
  },
  {
   "cell_type": "code",
   "execution_count": 8,
   "metadata": {},
   "outputs": [],
   "source": [
    "# NATURAL STORIES\n",
    "stories = pd.read_csv(\"~/Documents/resources/data/naturalstories-master/naturalstories_RTS/all_stories.txt\", sep = \"\\t\")\n",
    "story_text = \" \".join([x for x in stories[\"word\"]])\n",
    "story_text = sent_tokenize(story_text)\n",
    "\n",
    "with open(\"../data/corpora/natural_stories.txt\", \"w\") as outf:\n",
    "    outf.write(\"\\n\".join([x for x in story_text]))"
   ]
  },
  {
   "cell_type": "code",
   "execution_count": 11,
   "metadata": {},
   "outputs": [],
   "source": [
    "# BNC-BROWN\n",
    "brown = pd.read_csv(\"../data/human_rts/bnc-brown/bnc-brown.csv\")\n",
    "brown_text = \" \".join([x for x in brown[\"word\"]])\n",
    "brown_text = sent_tokenize(brown_text)\n",
    "\n",
    "with open(\"../data/corpora/bnc_brown.txt\", \"w\") as outf:\n",
    "    outf.write(\"\\n\".join([x for x in brown_text]))"
   ]
  },
  {
   "cell_type": "code",
   "execution_count": null,
   "metadata": {},
   "outputs": [],
   "source": []
  },
  {
   "cell_type": "code",
   "execution_count": null,
   "metadata": {},
   "outputs": [],
   "source": []
  }
 ],
 "metadata": {
  "kernelspec": {
   "display_name": "Python 3",
   "language": "python",
   "name": "python3"
  },
  "language_info": {
   "codemirror_mode": {
    "name": "ipython",
    "version": 3
   },
   "file_extension": ".py",
   "mimetype": "text/x-python",
   "name": "python",
   "nbconvert_exporter": "python",
   "pygments_lexer": "ipython3",
   "version": "3.6.8"
  }
 },
 "nbformat": 4,
 "nbformat_minor": 2
}
