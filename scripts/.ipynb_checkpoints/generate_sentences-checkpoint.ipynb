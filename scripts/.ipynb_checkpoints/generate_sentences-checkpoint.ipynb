{
 "cells": [
  {
   "cell_type": "code",
   "execution_count": 1,
   "metadata": {},
   "outputs": [],
   "source": [
    "import pandas as pd"
   ]
  },
  {
   "cell_type": "code",
   "execution_count": 20,
   "metadata": {},
   "outputs": [],
   "source": [
    "# NATURAL STORIES\n",
    "stories = pd.read_csv(\"~/Documents/resources/data/naturalstories-master/naturalstories_RTS/all_stories.txt\", sep = \"\\t\")\n",
    "story_text = [y.strip()+\".\" for y in \" \".join([x for x in stories[\"word\"]]).split(\".\")]\n",
    "\n",
    "with open(\"natural_stories.txt\", \"w\") as outf:\n",
    "    outf.write(\"\\n\".join([x for x in story_text]))"
   ]
  },
  {
   "cell_type": "code",
   "execution_count": 26,
   "metadata": {},
   "outputs": [],
   "source": [
    "# BROWN READTIMES\n",
    "brown = pd.read_csv(\"../data/brown_spr.csv\")\n",
    "\n",
    "brown_sents = brown[brown[\"subject\"] == \"s001\"]\n",
    "brown_sents = [y.strip()+\".\" for y in \" \".join([x for x in brown_sents[\"word\"]]).split(\".\")]\n",
    "\n",
    "with open(\"bnc_brown.txt\", \"w\") as outf:\n",
    "    outf.write(\"\\n\".join([x for x in brown_sents]))"
   ]
  },
  {
   "cell_type": "code",
   "execution_count": 24,
   "metadata": {},
   "outputs": [
    {
     "data": {
      "text/plain": [
       "['Buffeted by swirling winds, the little green biplane struggled northward between the mountains beyond Northfield Gulf.',\n",
       " 'Wires whined as a cold November blast rocked the silver wings, but the engine roar was reassuring to the pilot bundled in the open cockpit.',\n",
       " 'He peered ahead and grinned as the railroad tracks came into view again below.',\n",
       " '\"Good old iron compass!\" He thought.',\n",
       " 'A plume of smoke rose from a Central Vermont locomotive which idled behind a string of gravel cars, and little figures that were workmen labored to set the ruptured roadbed to rights.',\n",
       " 'The girders of a shattered Dog River bridge lay strewn for half a mile downstream.',\n",
       " \"Vermont's main railroad line was prostrate.\",\n",
       " \"And in the dark days after the Great Flood of 1927 -- the worst natural disaster in the state's history -- the little plane was its sole replacement in carrying the United States mails.\",\n",
       " \"Rain of near cloudburst proportions had fallen for three full days and it was still raining on the morning of Friday, November 4, 1927, when officials of the Post Office Department's Railway Mail Service realized that their distribution system for Vermont had been almost totally destroyed overnight.\",\n",
       " 'Clerks and postmasters shoveled muck out of their offices -- those who still had offices -- and wondered how to move the mail.']"
      ]
     },
     "execution_count": 24,
     "metadata": {},
     "output_type": "execute_result"
    }
   ],
   "source": [
    "brown_sents[:10]"
   ]
  },
  {
   "cell_type": "code",
   "execution_count": null,
   "metadata": {},
   "outputs": [],
   "source": []
  }
 ],
 "metadata": {
  "kernelspec": {
   "display_name": "Python 3",
   "language": "python",
   "name": "python3"
  },
  "language_info": {
   "codemirror_mode": {
    "name": "ipython",
    "version": 3
   },
   "file_extension": ".py",
   "mimetype": "text/x-python",
   "name": "python",
   "nbconvert_exporter": "python",
   "pygments_lexer": "ipython3",
   "version": "3.6.8"
  }
 },
 "nbformat": 4,
 "nbformat_minor": 2
}
